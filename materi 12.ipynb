{
 "cells": [
  {
   "cell_type": "code",
   "execution_count": 21,
   "metadata": {},
   "outputs": [],
   "source": [
    "import numpy as np\n",
    "import pandas as pd\n",
    "import matplotlib.pyplot as plt\n",
    "import seaborn as sns"
   ]
  },
  {
   "cell_type": "code",
   "execution_count": 22,
   "metadata": {},
   "outputs": [
    {
     "data": {
      "text/html": [
       "<div>\n",
       "<style scoped>\n",
       "    .dataframe tbody tr th:only-of-type {\n",
       "        vertical-align: middle;\n",
       "    }\n",
       "\n",
       "    .dataframe tbody tr th {\n",
       "        vertical-align: top;\n",
       "    }\n",
       "\n",
       "    .dataframe thead th {\n",
       "        text-align: right;\n",
       "    }\n",
       "</style>\n",
       "<table border=\"1\" class=\"dataframe\">\n",
       "  <thead>\n",
       "    <tr style=\"text-align: right;\">\n",
       "      <th></th>\n",
       "      <th>NAMA RUMAH</th>\n",
       "      <th>HARGA</th>\n",
       "      <th>LB</th>\n",
       "      <th>LT</th>\n",
       "      <th>KT</th>\n",
       "      <th>KM</th>\n",
       "      <th>GRS</th>\n",
       "    </tr>\n",
       "  </thead>\n",
       "  <tbody>\n",
       "    <tr>\n",
       "      <th>0</th>\n",
       "      <td>Rumah Murah Hook Tebet Timur, Tebet, Jakarta S...</td>\n",
       "      <td>3800000000</td>\n",
       "      <td>220</td>\n",
       "      <td>220</td>\n",
       "      <td>3</td>\n",
       "      <td>3</td>\n",
       "      <td>0</td>\n",
       "    </tr>\n",
       "    <tr>\n",
       "      <th>1</th>\n",
       "      <td>Rumah Modern di Tebet dekat Stasiun, Tebet, Ja...</td>\n",
       "      <td>4600000000</td>\n",
       "      <td>180</td>\n",
       "      <td>137</td>\n",
       "      <td>4</td>\n",
       "      <td>3</td>\n",
       "      <td>2</td>\n",
       "    </tr>\n",
       "    <tr>\n",
       "      <th>2</th>\n",
       "      <td>Rumah Mewah 2 Lantai Hanya 3 Menit Ke Tebet, T...</td>\n",
       "      <td>3000000000</td>\n",
       "      <td>267</td>\n",
       "      <td>250</td>\n",
       "      <td>4</td>\n",
       "      <td>4</td>\n",
       "      <td>4</td>\n",
       "    </tr>\n",
       "    <tr>\n",
       "      <th>3</th>\n",
       "      <td>Rumah Baru Tebet, Tebet, Jakarta Selatan</td>\n",
       "      <td>430000000</td>\n",
       "      <td>40</td>\n",
       "      <td>25</td>\n",
       "      <td>2</td>\n",
       "      <td>2</td>\n",
       "      <td>0</td>\n",
       "    </tr>\n",
       "    <tr>\n",
       "      <th>4</th>\n",
       "      <td>Rumah Bagus Tebet komp Gudang Peluru lt 350m, ...</td>\n",
       "      <td>9000000000</td>\n",
       "      <td>400</td>\n",
       "      <td>355</td>\n",
       "      <td>6</td>\n",
       "      <td>5</td>\n",
       "      <td>3</td>\n",
       "    </tr>\n",
       "    <tr>\n",
       "      <th>...</th>\n",
       "      <td>...</td>\n",
       "      <td>...</td>\n",
       "      <td>...</td>\n",
       "      <td>...</td>\n",
       "      <td>...</td>\n",
       "      <td>...</td>\n",
       "      <td>...</td>\n",
       "    </tr>\n",
       "    <tr>\n",
       "      <th>1005</th>\n",
       "      <td>Rumah Strategis Akses Jalan 2mobil Di Menteng ...</td>\n",
       "      <td>9000000000</td>\n",
       "      <td>450</td>\n",
       "      <td>550</td>\n",
       "      <td>10</td>\n",
       "      <td>10</td>\n",
       "      <td>3</td>\n",
       "    </tr>\n",
       "    <tr>\n",
       "      <th>1006</th>\n",
       "      <td>Tebet Rumah Siap Huni Jln 2 Mbl Nyaman</td>\n",
       "      <td>4000000000</td>\n",
       "      <td>160</td>\n",
       "      <td>140</td>\n",
       "      <td>4</td>\n",
       "      <td>3</td>\n",
       "      <td>2</td>\n",
       "    </tr>\n",
       "    <tr>\n",
       "      <th>1007</th>\n",
       "      <td>Di Kebun Baru Rumah Terawat, Area Strategis</td>\n",
       "      <td>4000000000</td>\n",
       "      <td>139</td>\n",
       "      <td>230</td>\n",
       "      <td>4</td>\n",
       "      <td>4</td>\n",
       "      <td>1</td>\n",
       "    </tr>\n",
       "    <tr>\n",
       "      <th>1008</th>\n",
       "      <td>Dijual Cepat Rumah Komp Depkeu Dr Soepomo Tebe...</td>\n",
       "      <td>19000000000</td>\n",
       "      <td>360</td>\n",
       "      <td>606</td>\n",
       "      <td>7</td>\n",
       "      <td>4</td>\n",
       "      <td>0</td>\n",
       "    </tr>\n",
       "    <tr>\n",
       "      <th>1009</th>\n",
       "      <td>Dijual Rumah Kokoh Di Gudang Peluru</td>\n",
       "      <td>10500000000</td>\n",
       "      <td>420</td>\n",
       "      <td>430</td>\n",
       "      <td>7</td>\n",
       "      <td>4</td>\n",
       "      <td>2</td>\n",
       "    </tr>\n",
       "  </tbody>\n",
       "</table>\n",
       "<p>1010 rows × 7 columns</p>\n",
       "</div>"
      ],
      "text/plain": [
       "                                             NAMA RUMAH        HARGA   LB  \\\n",
       "0     Rumah Murah Hook Tebet Timur, Tebet, Jakarta S...   3800000000  220   \n",
       "1     Rumah Modern di Tebet dekat Stasiun, Tebet, Ja...   4600000000  180   \n",
       "2     Rumah Mewah 2 Lantai Hanya 3 Menit Ke Tebet, T...   3000000000  267   \n",
       "3              Rumah Baru Tebet, Tebet, Jakarta Selatan    430000000   40   \n",
       "4     Rumah Bagus Tebet komp Gudang Peluru lt 350m, ...   9000000000  400   \n",
       "...                                                 ...          ...  ...   \n",
       "1005  Rumah Strategis Akses Jalan 2mobil Di Menteng ...   9000000000  450   \n",
       "1006             Tebet Rumah Siap Huni Jln 2 Mbl Nyaman   4000000000  160   \n",
       "1007        Di Kebun Baru Rumah Terawat, Area Strategis   4000000000  139   \n",
       "1008  Dijual Cepat Rumah Komp Depkeu Dr Soepomo Tebe...  19000000000  360   \n",
       "1009                Dijual Rumah Kokoh Di Gudang Peluru  10500000000  420   \n",
       "\n",
       "       LT  KT  KM  GRS  \n",
       "0     220   3   3    0  \n",
       "1     137   4   3    2  \n",
       "2     250   4   4    4  \n",
       "3      25   2   2    0  \n",
       "4     355   6   5    3  \n",
       "...   ...  ..  ..  ...  \n",
       "1005  550  10  10    3  \n",
       "1006  140   4   3    2  \n",
       "1007  230   4   4    1  \n",
       "1008  606   7   4    0  \n",
       "1009  430   7   4    2  \n",
       "\n",
       "[1010 rows x 7 columns]"
      ]
     },
     "execution_count": 22,
     "metadata": {},
     "output_type": "execute_result"
    }
   ],
   "source": [
    "df= pd.read_csv(\"rumah_jaksel.csv\",encoding='windows-1252')\n",
    "df"
   ]
  },
  {
   "attachments": {},
   "cell_type": "markdown",
   "metadata": {},
   "source": [
    "## data cleaning"
   ]
  },
  {
   "cell_type": "code",
   "execution_count": 23,
   "metadata": {},
   "outputs": [
    {
     "name": "stdout",
     "output_type": "stream",
     "text": [
      "<class 'pandas.core.frame.DataFrame'>\n",
      "RangeIndex: 1010 entries, 0 to 1009\n",
      "Data columns (total 7 columns):\n",
      " #   Column      Non-Null Count  Dtype \n",
      "---  ------      --------------  ----- \n",
      " 0   NAMA RUMAH  1010 non-null   object\n",
      " 1   HARGA       1010 non-null   int64 \n",
      " 2   LB          1010 non-null   int64 \n",
      " 3   LT          1010 non-null   int64 \n",
      " 4   KT          1010 non-null   int64 \n",
      " 5   KM          1010 non-null   int64 \n",
      " 6   GRS         1010 non-null   int64 \n",
      "dtypes: int64(6), object(1)\n",
      "memory usage: 55.4+ KB\n"
     ]
    }
   ],
   "source": [
    "df.info()"
   ]
  },
  {
   "cell_type": "code",
   "execution_count": 24,
   "metadata": {},
   "outputs": [
    {
     "data": {
      "text/html": [
       "<div>\n",
       "<style scoped>\n",
       "    .dataframe tbody tr th:only-of-type {\n",
       "        vertical-align: middle;\n",
       "    }\n",
       "\n",
       "    .dataframe tbody tr th {\n",
       "        vertical-align: top;\n",
       "    }\n",
       "\n",
       "    .dataframe thead th {\n",
       "        text-align: right;\n",
       "    }\n",
       "</style>\n",
       "<table border=\"1\" class=\"dataframe\">\n",
       "  <thead>\n",
       "    <tr style=\"text-align: right;\">\n",
       "      <th></th>\n",
       "      <th>NAMA RUMAH</th>\n",
       "      <th>HARGA</th>\n",
       "      <th>LB</th>\n",
       "      <th>LT</th>\n",
       "      <th>KT</th>\n",
       "      <th>KM</th>\n",
       "      <th>GRS</th>\n",
       "    </tr>\n",
       "  </thead>\n",
       "  <tbody>\n",
       "    <tr>\n",
       "      <th>0</th>\n",
       "      <td>Rumah Murah Hook Tebet Timur, Tebet, Jakarta S...</td>\n",
       "      <td>3.80</td>\n",
       "      <td>220</td>\n",
       "      <td>220</td>\n",
       "      <td>3</td>\n",
       "      <td>3</td>\n",
       "      <td>0</td>\n",
       "    </tr>\n",
       "    <tr>\n",
       "      <th>1</th>\n",
       "      <td>Rumah Modern di Tebet dekat Stasiun, Tebet, Ja...</td>\n",
       "      <td>4.60</td>\n",
       "      <td>180</td>\n",
       "      <td>137</td>\n",
       "      <td>4</td>\n",
       "      <td>3</td>\n",
       "      <td>2</td>\n",
       "    </tr>\n",
       "    <tr>\n",
       "      <th>2</th>\n",
       "      <td>Rumah Mewah 2 Lantai Hanya 3 Menit Ke Tebet, T...</td>\n",
       "      <td>3.00</td>\n",
       "      <td>267</td>\n",
       "      <td>250</td>\n",
       "      <td>4</td>\n",
       "      <td>4</td>\n",
       "      <td>4</td>\n",
       "    </tr>\n",
       "    <tr>\n",
       "      <th>3</th>\n",
       "      <td>Rumah Baru Tebet, Tebet, Jakarta Selatan</td>\n",
       "      <td>0.43</td>\n",
       "      <td>40</td>\n",
       "      <td>25</td>\n",
       "      <td>2</td>\n",
       "      <td>2</td>\n",
       "      <td>0</td>\n",
       "    </tr>\n",
       "    <tr>\n",
       "      <th>4</th>\n",
       "      <td>Rumah Bagus Tebet komp Gudang Peluru lt 350m, ...</td>\n",
       "      <td>9.00</td>\n",
       "      <td>400</td>\n",
       "      <td>355</td>\n",
       "      <td>6</td>\n",
       "      <td>5</td>\n",
       "      <td>3</td>\n",
       "    </tr>\n",
       "    <tr>\n",
       "      <th>...</th>\n",
       "      <td>...</td>\n",
       "      <td>...</td>\n",
       "      <td>...</td>\n",
       "      <td>...</td>\n",
       "      <td>...</td>\n",
       "      <td>...</td>\n",
       "      <td>...</td>\n",
       "    </tr>\n",
       "    <tr>\n",
       "      <th>1005</th>\n",
       "      <td>Rumah Strategis Akses Jalan 2mobil Di Menteng ...</td>\n",
       "      <td>9.00</td>\n",
       "      <td>450</td>\n",
       "      <td>550</td>\n",
       "      <td>10</td>\n",
       "      <td>10</td>\n",
       "      <td>3</td>\n",
       "    </tr>\n",
       "    <tr>\n",
       "      <th>1006</th>\n",
       "      <td>Tebet Rumah Siap Huni Jln 2 Mbl Nyaman</td>\n",
       "      <td>4.00</td>\n",
       "      <td>160</td>\n",
       "      <td>140</td>\n",
       "      <td>4</td>\n",
       "      <td>3</td>\n",
       "      <td>2</td>\n",
       "    </tr>\n",
       "    <tr>\n",
       "      <th>1007</th>\n",
       "      <td>Di Kebun Baru Rumah Terawat, Area Strategis</td>\n",
       "      <td>4.00</td>\n",
       "      <td>139</td>\n",
       "      <td>230</td>\n",
       "      <td>4</td>\n",
       "      <td>4</td>\n",
       "      <td>1</td>\n",
       "    </tr>\n",
       "    <tr>\n",
       "      <th>1008</th>\n",
       "      <td>Dijual Cepat Rumah Komp Depkeu Dr Soepomo Tebe...</td>\n",
       "      <td>19.00</td>\n",
       "      <td>360</td>\n",
       "      <td>606</td>\n",
       "      <td>7</td>\n",
       "      <td>4</td>\n",
       "      <td>0</td>\n",
       "    </tr>\n",
       "    <tr>\n",
       "      <th>1009</th>\n",
       "      <td>Dijual Rumah Kokoh Di Gudang Peluru</td>\n",
       "      <td>10.50</td>\n",
       "      <td>420</td>\n",
       "      <td>430</td>\n",
       "      <td>7</td>\n",
       "      <td>4</td>\n",
       "      <td>2</td>\n",
       "    </tr>\n",
       "  </tbody>\n",
       "</table>\n",
       "<p>1010 rows × 7 columns</p>\n",
       "</div>"
      ],
      "text/plain": [
       "                                             NAMA RUMAH  HARGA   LB   LT  KT  \\\n",
       "0     Rumah Murah Hook Tebet Timur, Tebet, Jakarta S...   3.80  220  220   3   \n",
       "1     Rumah Modern di Tebet dekat Stasiun, Tebet, Ja...   4.60  180  137   4   \n",
       "2     Rumah Mewah 2 Lantai Hanya 3 Menit Ke Tebet, T...   3.00  267  250   4   \n",
       "3              Rumah Baru Tebet, Tebet, Jakarta Selatan   0.43   40   25   2   \n",
       "4     Rumah Bagus Tebet komp Gudang Peluru lt 350m, ...   9.00  400  355   6   \n",
       "...                                                 ...    ...  ...  ...  ..   \n",
       "1005  Rumah Strategis Akses Jalan 2mobil Di Menteng ...   9.00  450  550  10   \n",
       "1006             Tebet Rumah Siap Huni Jln 2 Mbl Nyaman   4.00  160  140   4   \n",
       "1007        Di Kebun Baru Rumah Terawat, Area Strategis   4.00  139  230   4   \n",
       "1008  Dijual Cepat Rumah Komp Depkeu Dr Soepomo Tebe...  19.00  360  606   7   \n",
       "1009                Dijual Rumah Kokoh Di Gudang Peluru  10.50  420  430   7   \n",
       "\n",
       "      KM  GRS  \n",
       "0      3    0  \n",
       "1      3    2  \n",
       "2      4    4  \n",
       "3      2    0  \n",
       "4      5    3  \n",
       "...   ..  ...  \n",
       "1005  10    3  \n",
       "1006   3    2  \n",
       "1007   4    1  \n",
       "1008   4    0  \n",
       "1009   4    2  \n",
       "\n",
       "[1010 rows x 7 columns]"
      ]
     },
     "execution_count": 24,
     "metadata": {},
     "output_type": "execute_result"
    }
   ],
   "source": [
    "df['HARGA']=df['HARGA']/1000000000\n",
    "df\n"
   ]
  },
  {
   "cell_type": "code",
   "execution_count": 25,
   "metadata": {},
   "outputs": [
    {
     "data": {
      "text/html": [
       "<div>\n",
       "<style scoped>\n",
       "    .dataframe tbody tr th:only-of-type {\n",
       "        vertical-align: middle;\n",
       "    }\n",
       "\n",
       "    .dataframe tbody tr th {\n",
       "        vertical-align: top;\n",
       "    }\n",
       "\n",
       "    .dataframe thead th {\n",
       "        text-align: right;\n",
       "    }\n",
       "</style>\n",
       "<table border=\"1\" class=\"dataframe\">\n",
       "  <thead>\n",
       "    <tr style=\"text-align: right;\">\n",
       "      <th></th>\n",
       "      <th>HARGA</th>\n",
       "      <th>LB</th>\n",
       "      <th>LT</th>\n",
       "      <th>KT</th>\n",
       "      <th>KM</th>\n",
       "      <th>GRS</th>\n",
       "    </tr>\n",
       "  </thead>\n",
       "  <tbody>\n",
       "    <tr>\n",
       "      <th>count</th>\n",
       "      <td>1010.000000</td>\n",
       "      <td>1010.000000</td>\n",
       "      <td>1010.000000</td>\n",
       "      <td>1010.000000</td>\n",
       "      <td>1010.000000</td>\n",
       "      <td>1010.000000</td>\n",
       "    </tr>\n",
       "    <tr>\n",
       "      <th>mean</th>\n",
       "      <td>7.628987</td>\n",
       "      <td>276.539604</td>\n",
       "      <td>237.432673</td>\n",
       "      <td>4.668317</td>\n",
       "      <td>3.607921</td>\n",
       "      <td>1.920792</td>\n",
       "    </tr>\n",
       "    <tr>\n",
       "      <th>std</th>\n",
       "      <td>7.340946</td>\n",
       "      <td>177.864557</td>\n",
       "      <td>179.957604</td>\n",
       "      <td>1.572776</td>\n",
       "      <td>1.420066</td>\n",
       "      <td>1.510998</td>\n",
       "    </tr>\n",
       "    <tr>\n",
       "      <th>min</th>\n",
       "      <td>0.430000</td>\n",
       "      <td>40.000000</td>\n",
       "      <td>25.000000</td>\n",
       "      <td>2.000000</td>\n",
       "      <td>1.000000</td>\n",
       "      <td>0.000000</td>\n",
       "    </tr>\n",
       "    <tr>\n",
       "      <th>25%</th>\n",
       "      <td>3.262500</td>\n",
       "      <td>150.000000</td>\n",
       "      <td>130.000000</td>\n",
       "      <td>4.000000</td>\n",
       "      <td>3.000000</td>\n",
       "      <td>1.000000</td>\n",
       "    </tr>\n",
       "    <tr>\n",
       "      <th>50%</th>\n",
       "      <td>5.000000</td>\n",
       "      <td>216.500000</td>\n",
       "      <td>165.000000</td>\n",
       "      <td>4.000000</td>\n",
       "      <td>3.000000</td>\n",
       "      <td>2.000000</td>\n",
       "    </tr>\n",
       "    <tr>\n",
       "      <th>75%</th>\n",
       "      <td>9.000000</td>\n",
       "      <td>350.000000</td>\n",
       "      <td>290.000000</td>\n",
       "      <td>5.000000</td>\n",
       "      <td>4.000000</td>\n",
       "      <td>2.000000</td>\n",
       "    </tr>\n",
       "    <tr>\n",
       "      <th>max</th>\n",
       "      <td>65.000000</td>\n",
       "      <td>1126.000000</td>\n",
       "      <td>1400.000000</td>\n",
       "      <td>10.000000</td>\n",
       "      <td>10.000000</td>\n",
       "      <td>10.000000</td>\n",
       "    </tr>\n",
       "  </tbody>\n",
       "</table>\n",
       "</div>"
      ],
      "text/plain": [
       "             HARGA           LB           LT           KT           KM  \\\n",
       "count  1010.000000  1010.000000  1010.000000  1010.000000  1010.000000   \n",
       "mean      7.628987   276.539604   237.432673     4.668317     3.607921   \n",
       "std       7.340946   177.864557   179.957604     1.572776     1.420066   \n",
       "min       0.430000    40.000000    25.000000     2.000000     1.000000   \n",
       "25%       3.262500   150.000000   130.000000     4.000000     3.000000   \n",
       "50%       5.000000   216.500000   165.000000     4.000000     3.000000   \n",
       "75%       9.000000   350.000000   290.000000     5.000000     4.000000   \n",
       "max      65.000000  1126.000000  1400.000000    10.000000    10.000000   \n",
       "\n",
       "               GRS  \n",
       "count  1010.000000  \n",
       "mean      1.920792  \n",
       "std       1.510998  \n",
       "min       0.000000  \n",
       "25%       1.000000  \n",
       "50%       2.000000  \n",
       "75%       2.000000  \n",
       "max      10.000000  "
      ]
     },
     "execution_count": 25,
     "metadata": {},
     "output_type": "execute_result"
    }
   ],
   "source": [
    "df.describe()"
   ]
  },
  {
   "cell_type": "code",
   "execution_count": 37,
   "metadata": {},
   "outputs": [
    {
     "name": "stderr",
     "output_type": "stream",
     "text": [
      "C:\\Users\\user\\AppData\\Local\\Temp\\ipykernel_724\\600980528.py:2: FutureWarning: The default value of numeric_only in DataFrame.corr is deprecated. In a future version, it will default to False. Select only valid columns or specify the value of numeric_only to silence this warning.\n",
      "  sns.heatmap(df.corr(),annot=True,cmap=\"YlOrBr\")\n"
     ]
    },
    {
     "data": {
      "text/plain": [
       "<AxesSubplot: >"
      ]
     },
     "execution_count": 37,
     "metadata": {},
     "output_type": "execute_result"
    },
    {
     "data": {
      "image/png": "[encoded data removed]",
      "text/plain": [
       "<Figure size 500x500 with 2 Axes>"
      ]
     },
     "metadata": {},
     "output_type": "display_data"
    }
   ],
   "source": [
    "plt.figure(figsize=(5,5))\n",
    "sns.heatmap(df.corr(),annot=True,cmap=\"YlOrBr\")"
   ]
  },
  {
   "cell_type": "code",
   "execution_count": 27,
   "metadata": {},
   "outputs": [
    {
     "data": {
      "text/plain": [
       "((707, 6), (303, 6), (707,), (303,))"
      ]
     },
     "execution_count": 27,
     "metadata": {},
     "output_type": "execute_result"
    }
   ],
   "source": [
    "from sklearn.model_selection import train_test_split\n",
    "X=df.drop(columns=\"HARGA\")\n",
    "y=df.HARGA\n",
    "\n",
    "X_train,X_test,y_train,y_test = train_test_split(X,y,test_size=0.3,random_state=12)\n",
    "X_train.shape,X_test.shape,y_train.shape,y_test.shape\n",
    "\n",
    "#regresi tidak pake stratify"
   ]
  },
  {
   "cell_type": "code",
   "execution_count": 28,
   "metadata": {},
   "outputs": [],
   "source": [
    "from sklearn.pipeline import Pipeline\n",
    "from sklearn.impute import SimpleImputer\n",
    "from sklearn.preprocessing import OneHotEncoder , MinMaxScaler,StandardScaler\n",
    "\n",
    "numerical_pipeline=Pipeline([\n",
    "    (\"imputer\",SimpleImputer(strategy='mean')),\n",
    "    ('scaler',StandardScaler())\n",
    "])\n",
    "\n",
    "categorical_pipeline=Pipeline([\n",
    "    (\"imputer\",SimpleImputer(strategy='most_frequent')),\n",
    "    ('encode',OneHotEncoder())\n",
    "])  \n",
    "  \n",
    "from sklearn.compose import ColumnTransformer  \n",
    "preprocessor= ColumnTransformer([ \n",
    "    (\"numeric\",numerical_pipeline,['LB','LT','KT','KM','GRS']),\n",
    "    ('categoric',categorical_pipeline,[])\n",
    "])\n",
    "  \n",
    "from sklearn.neighbors import KNeighborsRegressor\n",
    "pipeline=Pipeline([\n",
    "        (\"prep\",preprocessor),\n",
    "        (\"algo\",KNeighborsRegressor())\n",
    "])"
   ]
  },
  {
   "cell_type": "code",
   "execution_count": 29,
   "metadata": {},
   "outputs": [
    {
     "name": "stdout",
     "output_type": "stream",
     "text": [
      "Fitting 4 folds for each of 50 candidates, totalling 200 fits\n",
      "{'algo__n_neighbors': 17, 'algo__weights': 'distance'}\n",
      "0.9967340607988583 0.6119472264768882\n"
     ]
    }
   ],
   "source": [
    "from sklearn.model_selection import GridSearchCV  \n",
    "parameter = {\n",
    "    \"algo__n_neighbors\":range(1,51,2),\n",
    "    \"algo__weights\":['uniform','distance']\n",
    "}\n",
    "model=GridSearchCV(pipeline,param_grid=parameter,cv=4,n_jobs=1,verbose=1)\n",
    "model.fit(X_train,y_train)\n",
    "print(model.best_params_)\n",
    "print(model.score(X_train,y_train),model.score(X_test,y_test))"
   ]
  },
  {
   "cell_type": "code",
   "execution_count": 30,
   "metadata": {},
   "outputs": [
    {
     "name": "stdout",
     "output_type": "stream",
     "text": [
      "[2.45217343]\n"
     ]
    }
   ],
   "source": [
    "soal=pd.DataFrame({'LB':[40],\n",
    "                   'LT':[100],\n",
    "                   'KT':[3],\n",
    "                   'KM':[2],\n",
    "                   'GRS':[1],\n",
    "})\n",
    "prediksi=model.predict(soal)\n",
    "\n",
    "print(prediksi)"
   ]
  },
  {
   "cell_type": "code",
   "execution_count": 31,
   "metadata": {},
   "outputs": [],
   "source": [
    "df_test=pd.DataFrame(y_test).reset_index(drop=True)\n",
    "\n",
    "df_test['prediction']=pd.DataFrame(model.predict(X_test))\n",
    "\n",
    "from sklearn.metrics import mean_absolute_error \n",
    "mae= mean_absolute_error(df_test.HARGA, df_test.prediction)"
   ]
  },
  {
   "cell_type": "code",
   "execution_count": 32,
   "metadata": {},
   "outputs": [
    {
     "name": "stdout",
     "output_type": "stream",
     "text": [
      "Mean absolute error : 1.99048691238755\n"
     ]
    }
   ],
   "source": [
    "print(\"Mean absolute error : \" + str(mae))"
   ]
  },
  {
   "cell_type": "code",
   "execution_count": 33,
   "metadata": {},
   "outputs": [
    {
     "name": "stdout",
     "output_type": "stream",
     "text": [
      "Root Mean squared error : 4.8455169602801975\n"
     ]
    }
   ],
   "source": [
    "from sklearn.metrics import mean_squared_error\n",
    "from math import sqrt\n",
    "\n",
    "rms = sqrt(mean_squared_error(df_test.HARGA, df_test.prediction))\n",
    "print(\"Root Mean squared error : \" + str(rms))"
   ]
  },
  {
   "cell_type": "code",
   "execution_count": 34,
   "metadata": {},
   "outputs": [
    {
     "name": "stdout",
     "output_type": "stream",
     "text": [
      "R Square : 0.6119472264768882\n"
     ]
    }
   ],
   "source": [
    "from sklearn.metrics import r2_score\n",
    "r2=r2_score(df_test.HARGA, df_test.prediction)\n",
    "print(\"R Square : \" + str(r2)) "
   ]
  },
  {
   "cell_type": "code",
   "execution_count": 35,
   "metadata": {},
   "outputs": [],
   "source": [
    "#import pickle\n",
    "#with open('model.pkl', 'wb') as file:\n",
    "    #pickle.dump(model, file)"
   ]
  }
 ],
 "metadata": {
  "kernelspec": {
   "display_name": "Python 3",
   "language": "python",
   "name": "python3"
  },
  "language_info": {
   "codemirror_mode": {
    "name": "ipython",
    "version": 3
   },
   "file_extension": ".py",
   "mimetype": "text/x-python",
   "name": "python",
   "nbconvert_exporter": "python",
   "pygments_lexer": "ipython3",
   "version": "3.10.10"
  },
  "orig_nbformat": 4,
  "vscode": {
   "interpreter": {
    "hash": "7b1f2b33e866b0bf2409397e5f58ba9cdf170d3b7f64c8f359c79998e2f88ad4"
   }
  }
 },
 "nbformat": 4,
 "nbformat_minor": 2
}
